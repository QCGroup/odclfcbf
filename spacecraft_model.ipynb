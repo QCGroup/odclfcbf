{
 "cells": [
  {
   "cell_type": "code",
   "execution_count": null,
   "metadata": {},
   "outputs": [],
   "source": [
    "# Function: spacecraft_plant\n",
    "\n",
    "## Spacecraft Plant\n",
    "# x = [sigma, w, h]\n",
    "# sigma = [sigma1, sigma2, sigma3]\n",
    "def spacecraft_plant(t, x, u, params):\n",
    "    \n",
    "    # Define inputs\n",
    "    sigma = x[0:3]\n",
    "    w = x[3:6]\n",
    "    hw = x[6:9]\n",
    "    \n",
    "    # Define system parameters\n",
    "    sigmac = np.array([[0., -sigma[2], sigma[1]], \n",
    "                       [sigma[2], 0., -sigma[0]], \n",
    "                       [-sigma[1], sigma[0], 0.]])\n",
    "    \n",
    "    M_sigma = (1/4) * ((1 - (sigma.T @ sigma)) * np.eye(3) + 2 * sigmac + 2 * (sigma @ sigma.T))\n",
    "    \n",
    "    wc = np.array([[0, -w[2], w[1]], \n",
    "                   [w[2], 0, -w[0]], \n",
    "                   [-w[1], w[0], 0]])\n",
    "    \n",
    "    fx = np.concatenate([M_sigma @ w,\n",
    "                        inv(J) @ (-wc @ (J @ w + hw)),\n",
    "                        np.zeros(3)])\n",
    "\n",
    "    gx = np.concatenate([np.array([[0., 0., 0.], \n",
    "                        [0., 0., 0.], \n",
    "                        [0., 0., 0.]]),\n",
    "                        inv(J),\n",
    "                        -np.eye(3)])\n",
    "    \n",
    "    # Define nonlinear control affine form\n",
    "    xdot = fx + gx @ u\n",
    "    \n",
    "    return xdot"
   ]
  },
  {
   "cell_type": "code",
   "execution_count": null,
   "metadata": {},
   "outputs": [],
   "source": [
    "# Function: spacecraft_output\n",
    "\n",
    "def spacecraft_output(t, x, u, params):\n",
    "    return x                            # return x (full state)"
   ]
  }
 ],
 "metadata": {
  "language_info": {
   "name": "python"
  }
 },
 "nbformat": 4,
 "nbformat_minor": 2
}
