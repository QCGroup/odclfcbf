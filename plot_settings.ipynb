{
 "cells": [
  {
   "cell_type": "code",
   "execution_count": null,
   "metadata": {},
   "outputs": [],
   "source": [
    "## Plot Settings\n",
    "SMALL_SIZE = 7\n",
    "MEDIUM_SIZE = 8\n",
    "BIGGER_SIZE = 9\n",
    "\n",
    "plt.rcParams['text.usetex'] = False\n",
    "plt.rcParams['font.family'] = 'Times New Roman'\n",
    "plt.rcParams['mathtext.fontset'] = 'cm'  # Use Computer Modern for math\n",
    "plt.rcParams['lines.linewidth'] = 1\n",
    "plt.rcParams['legend.labelspacing'] = 0.2\n",
    "# plt.rcParams['font.serif'] = ['Times New Roman']\n",
    "# plt.rcParams['figure.constrained_layout.use'] = True\n",
    "\n",
    "plt.rc('font', size=MEDIUM_SIZE)            # controls default text sizes\n",
    "plt.rc('axes', titlesize=MEDIUM_SIZE)       # fontsize of the axes title\n",
    "plt.rc('axes', labelsize=MEDIUM_SIZE)       # fontsize of the x and y labels\n",
    "plt.rc('xtick', labelsize=SMALL_SIZE)       # fontsize of the tick labels\n",
    "plt.rc('ytick', labelsize=SMALL_SIZE)       # fontsize of the tick labels\n",
    "plt.rc('legend', fontsize=MEDIUM_SIZE)      # legend fontsize\n",
    "plt.rc('figure', titlesize=BIGGER_SIZE)     # fontsize of the figure title\n",
    "plt.rc('figure', labelsize=MEDIUM_SIZE)     # fontsize of the x and y labels"
   ]
  }
 ],
 "metadata": {
  "language_info": {
   "name": "python"
  }
 },
 "nbformat": 4,
 "nbformat_minor": 2
}
