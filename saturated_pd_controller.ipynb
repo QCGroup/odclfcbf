{
 "cells": [
  {
   "cell_type": "code",
   "execution_count": null,
   "metadata": {},
   "outputs": [],
   "source": [
    "# Function: saturated_pd\n",
    "\n",
    "def saturated_pd(kp, kd, x):\n",
    "    u = - kp * x[0:3] - kd * x[3:6]\n",
    "    \n",
    "    return u"
   ]
  }
 ],
 "metadata": {
  "language_info": {
   "name": "python"
  }
 },
 "nbformat": 4,
 "nbformat_minor": 2
}
