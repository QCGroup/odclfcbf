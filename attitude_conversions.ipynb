{
 "cells": [
  {
   "cell_type": "code",
   "execution_count": null,
   "metadata": {},
   "outputs": [],
   "source": [
    "# Function: euler_to_mrps\n",
    "\n",
    "## Euler to MRPs\n",
    "def euler_to_mrps(theta):\n",
    "    r = Rotation.from_euler('zyx', theta)\n",
    "    return r.as_mrp()"
   ]
  },
  {
   "cell_type": "code",
   "execution_count": null,
   "metadata": {},
   "outputs": [],
   "source": [
    "# Function: mrps_to_euler\n",
    "\n",
    "## MRPs to Euler\n",
    "def mrps_to_euler(sigma):\n",
    "    r = Rotation.from_mrp(sigma)\n",
    "    return r.as_euler('zyx')"
   ]
  }
 ],
 "metadata": {
  "language_info": {
   "name": "python"
  }
 },
 "nbformat": 4,
 "nbformat_minor": 2
}
